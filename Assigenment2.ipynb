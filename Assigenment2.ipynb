{
 "cells": [
  {
   "cell_type": "raw",
   "id": "233cbfc9-5b24-4099-8530-87dcedaf75eb",
   "metadata": {},
   "source": [
    " Question -  Disscuss string slicing and provide examples.\n",
    "  \n",
    "  String slicing is a technique in programming, particularly in languages like Python, to extract substrings from a given string.\n",
    "  It allows you to obtain a portion of a string based on specified start and end indices.\n",
    "\n",
    "  Syntax :- string[start:stop:step]\n",
    "  \n",
    "  start: The index at which the slice starts (inclusive).\n",
    "  stop: The index at which the slice ends (exclusive).\n",
    "  step: The step value which determines the stride or interval between indices. This is optional and defaults to 1.\n",
    "\n",
    "  \n"
   ]
  },
  {
   "cell_type": "code",
   "execution_count": 2,
   "id": "d9124a12-e0ed-4e50-bd21-e0a65f2b02f8",
   "metadata": {},
   "outputs": [
    {
     "data": {
      "text/plain": [
       "'Hello'"
      ]
     },
     "execution_count": 2,
     "metadata": {},
     "output_type": "execute_result"
    }
   ],
   "source": [
    "# Basic Slicing\n",
    "\n",
    "text = \"Hello, World!\"\n",
    "slice = text[0:5]\n",
    "slice"
   ]
  },
  {
   "cell_type": "code",
   "execution_count": 4,
   "id": "0aa95750-0e5c-46ca-a024-311221a42d07",
   "metadata": {},
   "outputs": [
    {
     "data": {
      "text/plain": [
       "'Hlo ol'"
      ]
     },
     "execution_count": 4,
     "metadata": {},
     "output_type": "execute_result"
    }
   ],
   "source": [
    "# Slicing with Step\n",
    "\n",
    "text = \"Hello, World!\"\n",
    "slice2 = text[0:12:2]  # Extracts every 2nd character from index 0 to 11\n",
    "slice2"
   ]
  },
  {
   "cell_type": "code",
   "execution_count": 5,
   "id": "a66394b3-1b27-4cc8-bde6-9c936a57fb13",
   "metadata": {},
   "outputs": [
    {
     "name": "stdout",
     "output_type": "stream",
     "text": [
      "Hello\n",
      "World!\n"
     ]
    }
   ],
   "source": [
    "# Omitting Start and Stop\n",
    "\n",
    "text = \"Hello, World!\"\n",
    "slice3 = text[:5]     # Extracts from the beginning to index 4\n",
    "slice4 = text[7:]     # Extracts from index 7 to the end\n",
    "print(slice3)        \n",
    "print(slice4)       \n"
   ]
  },
  {
   "cell_type": "code",
   "execution_count": 6,
   "id": "3f6bbace-d329-44b7-a9b1-0362f0c76e1e",
   "metadata": {},
   "outputs": [
    {
     "name": "stdout",
     "output_type": "stream",
     "text": [
      "World\n"
     ]
    }
   ],
   "source": [
    "# Negative Indices\n",
    "\n",
    "text = \"Hello, World!\"\n",
    "slice5 = text[-6:-1]\n",
    "print(slice5) "
   ]
  },
  {
   "cell_type": "code",
   "execution_count": 7,
   "id": "39ef8810-46b0-4ed1-8e1a-3d62ea11b8d7",
   "metadata": {},
   "outputs": [
    {
     "name": "stdout",
     "output_type": "stream",
     "text": [
      "!dlroW ,olleH\n"
     ]
    }
   ],
   "source": [
    "# Reversing a String\n",
    "\n",
    "text = \"Hello, World!\"\n",
    "reversed_text = text[::-1]  # Reverses the entire string\n",
    "print(reversed_text)      \n"
   ]
  },
  {
   "cell_type": "raw",
   "id": "4ee894ac-e7dc-4ba3-9359-4ffb345fb546",
   "metadata": {},
   "source": [
    "Question - Explain the key  features of lists in Python.\n",
    "\n",
    "   Certainly! Lists are one of the most versatile and commonly used data structures in Python. Here are the key features of lists:\n",
    "        \n",
    "        1. Ordered: Lists maintain the order of elements. This means that elements have a specific position, and you can access them using their index. The indexing starts at 0.\n",
    "        2. Mutable: Lists can be modified after they are created. You can change, add, or remove elements from a list. This is in contrast to tuples, which are immutable.\n",
    "        3. Dynamic Size: Lists can grow and shrink in size. You can append elements, remove elements, or insert elements at specific positions.\n",
    "        4. Heterogeneous: Lists can contain elements of different types. For example, a single list can include integers, strings, and even other lists.\n",
    "        5. Indexed Access: You can access elements of a list using indexing. Negative indices can be used to access elements from the end of the list, where -1 refers to the last element, -2 refers to the second-to-last element, and so on.\n",
    "        6. Slicing: Lists support slicing, which allows you to access a subset of elements. For example, my_list[1:4] will return a new list containing elements from index 1 to 3.\n",
    "        7. Iterable: Lists are iterable, which means you can use loops, such as for loops, to iterate over the elements in a list.\n",
    "        8. Methods and Functions: Lists come with a variety of built-in methods, such as .append(), .extend(), .insert(), .remove(), .pop(), .sort(), and .reverse(), which provide powerful ways to manipulate the list.\n",
    "        9. List Comprehensions: Python supports list comprehensions, which provide a concise way to create lists. For example, [x**2 for x in range(10)] generates a list of squares of numbers from 0 to 9.\n",
    "        10. Nested Lists: Lists can contain other lists as elements. This allows for the creation of multi-dimensional arrays or matrices.\n",
    "        11. Dynamic Typing: Python lists can dynamically change their type of contents. This means you can have a list where some elements are integers, and others are strings or even other lists.\n",
    "        12. Performance Considerations: Lists are implemented as dynamic arrays in Python, which means they can efficiently handle appending elements, though operations like inserting elements in the middle or removing elements can be slower as the list grows larger.\n"
   ]
  },
  {
   "cell_type": "code",
   "execution_count": 8,
   "id": "612e58c6-3b50-4f83-a97b-4d93413f2b33",
   "metadata": {},
   "outputs": [
    {
     "name": "stdout",
     "output_type": "stream",
     "text": [
      "10\n",
      "30\n",
      "50\n"
     ]
    }
   ],
   "source": [
    "# Question - Describe how to access  modify,  and delete elements in a list with examples.\n",
    "\n",
    "# Accessing Elements :- You can access elements in a list using indexing. Python uses zero-based indexing, so the first element is at index 0, the second at index 1, and so on.\n",
    "\n",
    "my_list = [10, 20, 30, 40, 50]\n",
    "\n",
    "# Access elements\n",
    "print(my_list[0])  \n",
    "print(my_list[2])  \n",
    "print(my_list[-1]) "
   ]
  },
  {
   "cell_type": "code",
   "execution_count": 9,
   "id": "5b2b898c-b03e-4431-8db9-8484e24333b2",
   "metadata": {},
   "outputs": [
    {
     "name": "stdout",
     "output_type": "stream",
     "text": [
      "[10, 25, 30, 40, 50]\n",
      "[10, 25, 30, 40, 55]\n"
     ]
    }
   ],
   "source": [
    "# Modifying Elements - You can modify elements in a list by assigning a new value to a specific index.\n",
    "\n",
    "my_list = [10, 20, 30, 40, 50]\n",
    "\n",
    "# Modify elements\n",
    "my_list[1] = 25  \n",
    "print(my_list)\n",
    "\n",
    "# Modify the last element\n",
    "my_list[-1] = 55\n",
    "print(my_list)\n"
   ]
  },
  {
   "cell_type": "code",
   "execution_count": 10,
   "id": "0da6f8df-d6f6-451e-af94-bf8e055f4758",
   "metadata": {},
   "outputs": [
    {
     "name": "stdout",
     "output_type": "stream",
     "text": [
      "[10, 30, 40, 50]\n",
      "[10, 30, 50]\n",
      "30\n",
      "[10, 50]\n",
      "50\n",
      "[10]\n"
     ]
    }
   ],
   "source": [
    "# Deleting Elements :-  You can delete elements from a list using several methods:\n",
    "#    Using the del statement: Deletes the element at a specified index.\n",
    "#    Using the remove() method: Removes the first occurrence of a specified value.\n",
    "#    Using the pop() method: Removes and returns the element at a specified index (or the last element if no index is provided).\n",
    "\n",
    "my_list = [10, 20, 30, 40, 50]\n",
    "\n",
    "# Delete by index using del\n",
    "del my_list[1]  # Remove the element at index 1 (value 20)\n",
    "print(my_list)  # Output: [10, 30, 40, 50]\n",
    "\n",
    "# Delete by value using remove\n",
    "my_list.remove(40)  # Remove the first occurrence of value 40\n",
    "print(my_list)      # Output: [10, 30, 50]\n",
    "\n",
    "# Delete by index using pop\n",
    "popped_value = my_list.pop(1)  # Remove and return the element at index 1 (value 30)\n",
    "print(popped_value)  # Output: 30\n",
    "print(my_list)       # Output: [10, 50]\n",
    "\n",
    "# Delete last element using pop without index\n",
    "last_value = my_list.pop()  # Remove and return the last element (value 50)\n",
    "print(last_value)  # Output: 50\n",
    "print(my_list)     # Output: [10]\n"
   ]
  },
  {
   "cell_type": "code",
   "execution_count": 1,
   "id": "739ee792-49d4-465f-ab00-689d8e56eafb",
   "metadata": {},
   "outputs": [
    {
     "name": "stdout",
     "output_type": "stream",
     "text": [
      "2\n",
      "2\n",
      "[2, 3]\n",
      "(2, 3)\n"
     ]
    }
   ],
   "source": [
    "# Questions - Compare and contrast tuples and lists with examples\n",
    "\n",
    "# Certainly! Tuples and lists are both data structures in Python that allow you to store collections of items. \n",
    "# However, they have some important differences in their behavior and use cases. \n",
    "# Here's a detailed comparison:\n",
    "\n",
    "# Both Can Store Multiple Items :- Tuples and lists can store elements of different types, such as integers, strings, and other objects.\n",
    " \n",
    "# Indexing and Slicing :- You can access elements in both tuples and lists using indexing and slicing. \n",
    "# For example:-\n",
    "\n",
    "my_list = [1, 2, 3]\n",
    "my_tuple = (1, 2, 3)\n",
    "\n",
    "print(my_list[1])  \n",
    "print(my_tuple[1])\n",
    "\n",
    "print(my_list[1:3])  \n",
    "print(my_tuple[1:3])\n",
    "\n",
    "\n",
    "\n",
    "\n"
   ]
  },
  {
   "cell_type": "code",
   "execution_count": 2,
   "id": "b7a0b44b-d731-4d1e-b215-4ea8ea423625",
   "metadata": {},
   "outputs": [
    {
     "name": "stdout",
     "output_type": "stream",
     "text": [
      "1\n",
      "2\n",
      "3\n",
      "1\n",
      "2\n",
      "3\n"
     ]
    }
   ],
   "source": [
    "# Iteration :- You can iterate over both tuples and lists using loops. \n",
    "# For example:-\n",
    "\n",
    "for item in [1, 2, 3]:\n",
    "    print(item)\n",
    "\n",
    "for item in (1, 2, 3):\n",
    "    print(item)\n"
   ]
  },
  {
   "cell_type": "code",
   "execution_count": 6,
   "id": "0367bfe7-5c49-4624-b4d6-b7176cdda729",
   "metadata": {},
   "outputs": [
    {
     "name": "stdout",
     "output_type": "stream",
     "text": [
      "[10, 2, 3, 4]\n"
     ]
    }
   ],
   "source": [
    "# Mutability :- \n",
    "\n",
    "# Lists are mutable, meaning you can change their content after creation (add, remove, or modify elements).\n",
    "\n",
    "my_list = [1, 2, 3]\n",
    "my_list[0] = 10\n",
    "my_list.append(4)\n",
    "print(my_list) \n",
    "\n",
    "# Tuples are immutable, meaning once created, their content cannot be changed. You cannot add, remove, or modify elements.\n",
    "my_tuple = (1, 2, 3)\n",
    "# my_tuple[0] = 10  # This will raise a TypeError\n",
    "# my_tuple.append(4)  # This will also raise an AttributeError\n"
   ]
  },
  {
   "cell_type": "code",
   "execution_count": 7,
   "id": "803d3fdd-df87-4720-8bde-bcdfb0f2c1c6",
   "metadata": {},
   "outputs": [],
   "source": [
    "# Syntax:- \n",
    "# Lists use square brackets [].\n",
    "\n",
    "my_list = [1, 2, 3]\n",
    "\n",
    "# Tuples use parentheses ().\n",
    "\n",
    "my_tuple = (1, 2, 3)\n"
   ]
  },
  {
   "cell_type": "code",
   "execution_count": 8,
   "id": "1cbfd676-12cc-4ff4-b3ae-a66190a322a7",
   "metadata": {},
   "outputs": [],
   "source": [
    "# Performance:- Tuples are generally faster than lists for iteration and access due to their immutability. They have a smaller memory footprint because of this immutability.\n"
   ]
  },
  {
   "cell_type": "code",
   "execution_count": 11,
   "id": "f5fd9fce-c9a9-4c91-ab87-648543662771",
   "metadata": {},
   "outputs": [],
   "source": [
    "# Use Cases:\n",
    "\n",
    "# Lists are preferred when you need a collection of items that might change in size or content, such as dynamic lists of data\n",
    "\n",
    "shopping_list = [\"milk\", \"eggs\", \"bread\"]\n",
    "shopping_list.append(\"butter\")\n",
    "\n",
    "# Tuples are often used for fixed collections of items, or when you want to ensure that the collection of items should not change. They are also used as keys in dictionaries (since they are hashable) and in function return values.\n",
    "\n",
    "point = (10, 20)  # Immutable coordinates\n"
   ]
  },
  {
   "cell_type": "code",
   "execution_count": 16,
   "id": "60924854-8c26-4203-a886-a27b248c5caf",
   "metadata": {},
   "outputs": [
    {
     "name": "stdout",
     "output_type": "stream",
     "text": [
      "[1, 2, 3, 4]\n",
      "2\n"
     ]
    }
   ],
   "source": [
    "# Methods :- \n",
    "\n",
    "# Lists have several methods available, such as append(), remove(), extend(), etc.\n",
    "\n",
    "my_list = [1, 2, 3]\n",
    "my_list.append(4)  # Adds 4 to the end of the list\n",
    "print(my_list)\n",
    "\n",
    "# Tuples have fewer methods, only count() and index(), due to their immutability.\n",
    "\n",
    "my_tuple = (1, 2, 3, 2)\n",
    "print(my_tuple.count(2))  \n",
    "\n"
   ]
  },
  {
   "cell_type": "code",
   "execution_count": 20,
   "id": "0696cf1d-cbe4-422d-90b4-afbb0cde939e",
   "metadata": {},
   "outputs": [
    {
     "name": "stdout",
     "output_type": "stream",
     "text": [
      "['apple', 'blueberry', 'cherry', 'orange']\n",
      "10 20 30\n"
     ]
    }
   ],
   "source": [
    "# List Example:\n",
    "\n",
    "# Creating a list\n",
    "\n",
    "fruits = [\"apple\", \"banana\", \"cherry\"]\n",
    "\n",
    "# Modifying the list\n",
    "fruits[1] = \"blueberry\"\n",
    "fruits.append(\"orange\")\n",
    "\n",
    "print(fruits)  # Output: ['apple', 'blueberry', 'cherry', 'orange']\n",
    "\n",
    "# Tuple Example:\n",
    "\n",
    "# Creating a tuple\n",
    "coordinates = (10, 20, 30)\n",
    "\n",
    "# Accessing elements\n",
    "x, y, z = coordinates\n",
    "print(x, y, z)\n",
    "\n",
    "# Attempting to modify will raise an error\n",
    "# coordinates[0] = 100  # TypeError: 'tuple' object does not support item assignment\n",
    "\n",
    "    "
   ]
  },
  {
   "cell_type": "code",
   "execution_count": 21,
   "id": "4eb20c69-dd27-422d-904c-ebf49fd602d5",
   "metadata": {},
   "outputs": [],
   "source": [
    "# In summary, lists are more flexible and suitable for collections that change over time, while tuples are fixed and can be used for collections of items that should remain constant"
   ]
  },
  {
   "cell_type": "raw",
   "id": "21263bd6-0bb7-4ed8-ab23-d2e7725dacf3",
   "metadata": {},
   "source": [
    "# Question - Describe the key features of sets and provide examples of their use\n",
    "\n",
    "Sets in Python are a built-in data type that represent an unordered collection of unique elements. \n",
    "They are useful for operations involving membership testing, eliminating duplicate entries, and performing mathematical set operations like union, intersection, and difference. \n",
    "Here are the key features of sets in Python, along with examples of their use:\n",
    "    \n",
    "# Key Features of Sets\n",
    "\n",
    "Unordered Collection:\n",
    "\n",
    "Sets do not maintain any particular order of elements. When you print a set, the order of elements might appear different from how you added them.\n",
    "\n",
    "Unique Elements:\n",
    "\n",
    "A set automatically removes duplicate entries. Each element in a set must be unique.\n",
    "\n",
    "Mutable:\n",
    "\n",
    "Sets are mutable, meaning you can add or remove elements after the set has been created. However, the elements themselves must be immutable (e.g., numbers, strings, tuples).\n",
    "\n",
    "No Indexing:\n",
    "\n",
    "Unlike lists or tuples, sets do not support indexing, slicing, or other sequence-like behavior. You cannot access elements by position.\n",
    "\n",
    "Efficient Membership Testing:\n",
    "\n",
    "Checking whether an item is in a set is very fast compared to other data structures like lists.\n",
    "\n",
    "Set Operations:\n",
    "\n",
    "Sets support mathematical operations such as union, intersection, difference, and symmetric difference."
   ]
  },
  {
   "cell_type": "code",
   "execution_count": 23,
   "id": "cfb349fa-3c27-481c-97ed-351cf023eb94",
   "metadata": {},
   "outputs": [
    {
     "name": "stdout",
     "output_type": "stream",
     "text": [
      "{1, 2, 3, 4}\n"
     ]
    }
   ],
   "source": [
    "#Examples of Sets in Python\n",
    "\n",
    "# Creating a set with some initial elements\n",
    "my_set = {1, 2, 3, 4}\n",
    "print(my_set)  # Output: {1, 2, 3, 4}\n"
   ]
  },
  {
   "cell_type": "code",
   "execution_count": 24,
   "id": "743826bf-d82a-4940-b037-9185703e0cfc",
   "metadata": {},
   "outputs": [
    {
     "name": "stdout",
     "output_type": "stream",
     "text": [
      "{1, 2, 3, 4, 5}\n",
      "{1, 2, 4, 5}\n",
      "{1, 2, 4, 5}\n"
     ]
    }
   ],
   "source": [
    "# Adding an element\n",
    "my_set.add(5)\n",
    "print(my_set) \n",
    "\n",
    "# Removing an element (if the element is not found, it raises a KeyError)\n",
    "my_set.remove(3)\n",
    "print(my_set) \n",
    "\n",
    "# Removing an element without raising an error if the element is not found\n",
    "my_set.discard(6)  # No error, even though 6 is not in the set\n",
    "print(my_set) \n"
   ]
  },
  {
   "cell_type": "code",
   "execution_count": 26,
   "id": "647b400d-18aa-458a-be7d-93b7f256e644",
   "metadata": {},
   "outputs": [
    {
     "name": "stdout",
     "output_type": "stream",
     "text": [
      "{1, 2, 3, 4, 5}\n",
      "{3}\n",
      "{1, 2}\n",
      "{1, 2, 4, 5}\n"
     ]
    }
   ],
   "source": [
    "# Set Operations\n",
    "\n",
    "# Union\n",
    "set1 = {1, 2, 3}\n",
    "set2 = {3, 4, 5}\n",
    "union_set = set1.union(set2)\n",
    "print(union_set) \n",
    "\n",
    "# Intersection\n",
    "intersection_set = set1.intersection(set2)\n",
    "print(intersection_set) \n",
    "\n",
    "# Difference\n",
    "difference_set = set1.difference(set2)\n",
    "print(difference_set) \n",
    "\n",
    "# Symmetric Difference\n",
    "symmetric_difference_set = set1.symmetric_difference(set2)\n",
    "print(symmetric_difference_set) \n"
   ]
  },
  {
   "cell_type": "code",
   "execution_count": 28,
   "id": "6de45f1e-5fa3-41c8-ab99-3cece5be6c07",
   "metadata": {},
   "outputs": [
    {
     "name": "stdout",
     "output_type": "stream",
     "text": [
      "True\n",
      "False\n"
     ]
    }
   ],
   "source": [
    "# Membership Testing\n",
    "\n",
    "my_set = {1, 2, 3, 4}\n",
    "print(1 in my_set)  \n",
    "print(10 in my_set) \n"
   ]
  },
  {
   "cell_type": "code",
   "execution_count": 30,
   "id": "b987f114-b549-4b4f-8d0b-a4d9b2fa9936",
   "metadata": {},
   "outputs": [
    {
     "name": "stdout",
     "output_type": "stream",
     "text": [
      "{1, 2, 3, 4, 5}\n"
     ]
    }
   ],
   "source": [
    "#Using Sets to Remove Duplicates\n",
    "\n",
    "# Removing duplicates from a list\n",
    "list_with_duplicates = [1, 2, 2, 3, 4, 4, 5]\n",
    "unique_set = set(list_with_duplicates)\n",
    "print(unique_set)"
   ]
  },
  {
   "cell_type": "raw",
   "id": "50f271c8-a458-43be-b857-073ec2fcfdac",
   "metadata": {},
   "source": [
    "Questions - Discuss the use cases of tuples and sets in Python programming.\n",
    "\n",
    "Tuples and sets are two fundamental data structures in Python, each with distinct use cases and characteristics.\n",
    "\n",
    "Tuples\n",
    "\n",
    "Characteristics:\n",
    "\n",
    "Immutable: Once created, the contents of a tuple cannot be changed. This immutability makes tuples hashable and usable as keys in dictionaries or elements in sets.\n",
    "\n",
    "Ordered: Tuples maintain the order of elements, meaning you can access elements by their index.\n"
   ]
  },
  {
   "cell_type": "code",
   "execution_count": 1,
   "id": "0e223501-290a-4e3c-bebb-166d3f41352c",
   "metadata": {},
   "outputs": [],
   "source": [
    "# Use Cases:\n",
    "\n",
    "# Fixed Collections: Use tuples for data that shouldn’t change throughout the lifetime of the program. For example, returning multiple values from a function:\n",
    "\n",
    "def get_coordinates():\n",
    "    return (40.7128, -74.0060)  # (latitude, longitude)\n"
   ]
  },
  {
   "cell_type": "code",
   "execution_count": 2,
   "id": "f47d0205-2513-41fe-9eb8-8fbbd7caea47",
   "metadata": {},
   "outputs": [],
   "source": [
    "# Data Integrity: When you need a collection of items that should not be modified, such as configuration settings or fixed data, tuples help ensure that the data remains constant."
   ]
  },
  {
   "cell_type": "code",
   "execution_count": 3,
   "id": "a54317a4-fd64-4717-a45b-46d88b53a2c6",
   "metadata": {},
   "outputs": [],
   "source": [
    "# Dictionary Keys: Tuples can be used as keys in dictionaries if they contain only immutable elements. For example:\n",
    "\n",
    "location_data = { (40.7128, -74.0060): \"New York City\" }\n"
   ]
  },
  {
   "cell_type": "code",
   "execution_count": 4,
   "id": "e0ad3aaf-949c-4ad0-837b-1b79671aacbf",
   "metadata": {},
   "outputs": [],
   "source": [
    "# Record Representation: Tuples can represent records or fixed-size collections of elements, similar to rows in a database or records in a CSV file:\n",
    "\n",
    "employee = (\"John Doe\", 30, \"Engineer\")\n"
   ]
  },
  {
   "cell_type": "code",
   "execution_count": 5,
   "id": "6850c046-a529-4267-85f1-631d41d38c90",
   "metadata": {},
   "outputs": [],
   "source": [
    "# Performance: Tuples are generally faster than lists for iteration and have a smaller memory footprint, so if you need a collection that won’t change and needs efficient iteration, tuples are a good choice.\n"
   ]
  },
  {
   "cell_type": "raw",
   "id": "f6ac6266-c2f0-4d22-9f15-3a8f0ab82bc6",
   "metadata": {},
   "source": [
    "Sets\n",
    "\n",
    "Characteristics:\n",
    "\n",
    "Unordered: Sets do not maintain any order of elements. You cannot access elements by an index.\n",
    "\n",
    "Mutable: You can add and remove elements from a set. However, the elements themselves must be immutable.\n",
    "\n",
    "Unique Elements: Sets automatically enforce uniqueness, so duplicate elements are not allowed."
   ]
  },
  {
   "cell_type": "code",
   "execution_count": 6,
   "id": "aca3bb8a-258b-4a04-8a88-18860054e950",
   "metadata": {},
   "outputs": [
    {
     "name": "stdout",
     "output_type": "stream",
     "text": [
      "Bob is an active user.\n"
     ]
    }
   ],
   "source": [
    "# Use Cases:\n",
    "\n",
    "# Membership Testing: Sets provide O(1) average-time complexity for membership tests, making them ideal for scenarios where you need to check for the presence of an item frequently:\n",
    "\n",
    "active_users = {\"alice\", \"bob\", \"carol\"}\n",
    "if \"bob\" in active_users:\n",
    "    print(\"Bob is an active user.\")\n"
   ]
  },
  {
   "cell_type": "code",
   "execution_count": 7,
   "id": "f232fed8-a6e0-4de2-97fb-f5fd0c551c5d",
   "metadata": {},
   "outputs": [],
   "source": [
    "# Eliminating Duplicates: Use sets to remove duplicates from a list or other iterable:\n",
    "\n",
    "numbers = [1, 2, 2, 3, 4, 4, 5]\n",
    "unique_numbers = set(numbers)  # {1, 2, 3, 4, 5}\n"
   ]
  },
  {
   "cell_type": "code",
   "execution_count": 8,
   "id": "0585244a-7273-441e-9526-5fd42970a239",
   "metadata": {},
   "outputs": [],
   "source": [
    "# Set Operations: Sets support mathematical set operations like union, intersection, difference, and symmetric difference, which are useful in many scenarios:\n",
    "\n",
    "set1 = {1, 2, 3, 4}\n",
    "set2 = {3, 4, 5, 6}\n",
    "union = set1 | set2  # {1, 2, 3, 4, 5, 6}\n",
    "intersection = set1 & set2  # {3, 4}\n",
    "difference = set1 - set2  # {1, 2}\n"
   ]
  },
  {
   "cell_type": "code",
   "execution_count": 9,
   "id": "691ee621-9b21-493c-a56b-4df990528311",
   "metadata": {},
   "outputs": [],
   "source": [
    "# Fast Operations: For operations that require frequent addition and removal of elements while ensuring uniqueness, sets are more efficient than lists:\n",
    "\n",
    "# Adding elements to a set\n",
    "my_set = set()\n",
    "my_set.add(\"apple\")\n",
    "my_set.add(\"banana\")\n",
    "my_set.remove(\"apple\")\n"
   ]
  },
  {
   "cell_type": "code",
   "execution_count": 10,
   "id": "387dc0c7-7642-4c0a-837c-2f04bbb0010f",
   "metadata": {},
   "outputs": [],
   "source": [
    "# Graph Algorithms: Sets are often used in graph algorithms, like finding connected components or tracking visited nodes, due to their efficient membership checking and set operations.\n"
   ]
  },
  {
   "cell_type": "code",
   "execution_count": 11,
   "id": "c486a627-cb0e-490d-8c22-f6726e22762d",
   "metadata": {},
   "outputs": [],
   "source": [
    "# In summary, tuples are best suited for fixed collections and records where immutability and order are important, while sets are ideal for managing collections of unique items and performing efficient membership tests and set operations.\n"
   ]
  },
  {
   "cell_type": "raw",
   "id": "e6be5cb2-1ac8-4979-bf71-64651d5e887c",
   "metadata": {},
   "source": [
    "Question - Describe how to add,  modify, and delete items in a dictionary with examples.\n",
    "\n",
    "In Python, dictionaries are versatile data structures that store key-value pairs. You can easily add, modify, and delete items in a dictionary. \n",
    "Here’s how you can perform these operations with examples:\n"
   ]
  },
  {
   "cell_type": "code",
   "execution_count": 12,
   "id": "00f3720f-0c63-4e44-9620-55e703ba62cf",
   "metadata": {},
   "outputs": [
    {
     "name": "stdout",
     "output_type": "stream",
     "text": [
      "{'name': 'Alice', 'age': 30, 'city': 'New York'}\n"
     ]
    }
   ],
   "source": [
    "# Adding Items :- To add a new key-value pair to a dictionary, you can use the assignment operator =. If the key does not exist, it will be created along with its associated value.\n",
    "\n",
    "# Create an empty dictionary\n",
    "my_dict = {}\n",
    "\n",
    "# Add new key-value pairs\n",
    "my_dict[\"name\"] = \"Alice\"\n",
    "my_dict[\"age\"] = 30\n",
    "my_dict[\"city\"] = \"New York\"\n",
    "\n",
    "print(my_dict)"
   ]
  },
  {
   "cell_type": "code",
   "execution_count": 13,
   "id": "fed0500c-cdf9-467f-b58d-64ad86597b06",
   "metadata": {},
   "outputs": [
    {
     "name": "stdout",
     "output_type": "stream",
     "text": [
      "{'name': 'Alice', 'age': 30, 'city': 'New York', 'job': 'Engineer'}\n"
     ]
    }
   ],
   "source": [
    "# You can also add multiple items at once using the update() method, which merges another dictionary or iterable of key-value pairs into the existing dictionary.\n",
    "\n",
    "# Create a dictionary with initial values\n",
    "my_dict = {\"name\": \"Alice\", \"age\": 30}\n",
    "\n",
    "# Add multiple items\n",
    "my_dict.update({\"city\": \"New York\", \"job\": \"Engineer\"})\n",
    "\n",
    "print(my_dict)\n"
   ]
  },
  {
   "cell_type": "code",
   "execution_count": 14,
   "id": "3cf3026d-c359-46d2-a339-c03864fbbc09",
   "metadata": {},
   "outputs": [
    {
     "name": "stdout",
     "output_type": "stream",
     "text": [
      "{'name': 'Alice', 'age': 31, 'city': 'San Francisco'}\n"
     ]
    }
   ],
   "source": [
    "# Modifying Items :- To modify the value associated with a specific key, you simply use the key to reference the value and assign a new value.\n",
    "\n",
    "# Create a dictionary with initial values\n",
    "my_dict = {\"name\": \"Alice\", \"age\": 30, \"city\": \"New York\"}\n",
    "\n",
    "# Modify the value for the key 'age'\n",
    "my_dict[\"age\"] = 31\n",
    "\n",
    "# Modify the value for the key 'city'\n",
    "my_dict[\"city\"] = \"San Francisco\"\n",
    "\n",
    "print(my_dict)"
   ]
  },
  {
   "cell_type": "code",
   "execution_count": 15,
   "id": "459acf78-d6b2-42f6-8f6e-7416c90f4cc3",
   "metadata": {},
   "outputs": [
    {
     "name": "stdout",
     "output_type": "stream",
     "text": [
      "{'name': 'Alice', 'city': 'New York'}\n"
     ]
    }
   ],
   "source": [
    "# Deleting Items :- To delete an item from a dictionary, you can use the del statement or the pop() method.\n",
    "\n",
    "# Using del Statement: This method removes a key-value pair by specifying the key.\n",
    "\n",
    "# Create a dictionary with initial values\n",
    "my_dict = {\"name\": \"Alice\", \"age\": 30, \"city\": \"New York\"}\n",
    "\n",
    "# Delete the key 'age'\n",
    "del my_dict[\"age\"]\n",
    "\n",
    "print(my_dict)"
   ]
  },
  {
   "cell_type": "code",
   "execution_count": 16,
   "id": "4bc32451-f9b5-4702-9ec9-68e1c1fcc8f7",
   "metadata": {},
   "outputs": [
    {
     "name": "stdout",
     "output_type": "stream",
     "text": [
      "New York\n",
      "{'name': 'Alice', 'age': 30}\n"
     ]
    }
   ],
   "source": [
    "# Using pop() Method :- This method removes the key-value pair and returns the value associated with the key. If the key does not exist, it raises a KeyError unless a default value is provided.\n",
    "\n",
    "# Create a dictionary with initial values\n",
    "my_dict = {\"name\": \"Alice\", \"age\": 30, \"city\": \"New York\"}\n",
    "\n",
    "# Remove and return the value for the key 'city'\n",
    "city_value = my_dict.pop(\"city\")\n",
    "\n",
    "print(city_value)\n",
    "print(my_dict)\n",
    "\n"
   ]
  },
  {
   "cell_type": "code",
   "execution_count": 17,
   "id": "43a9f409-68df-4551-b18f-c4de2e777b76",
   "metadata": {},
   "outputs": [
    {
     "name": "stdout",
     "output_type": "stream",
     "text": [
      "Key not found\n",
      "{'name': 'Alice', 'age': 30}\n"
     ]
    }
   ],
   "source": [
    "# Example with Default Value:\n",
    "\n",
    "# Create a dictionary with initial values\n",
    "my_dict = {\"name\": \"Alice\", \"age\": 30}\n",
    "\n",
    "# Try to remove a key that does not exist, with a default value\n",
    "removed_value = my_dict.pop(\"city\", \"Key not found\")\n",
    "\n",
    "print(removed_value)\n",
    "print(my_dict)"
   ]
  },
  {
   "cell_type": "code",
   "execution_count": 18,
   "id": "17d806ed-1a8d-4438-9b12-04185661ad59",
   "metadata": {},
   "outputs": [],
   "source": [
    "# Summary\n",
    "# Adding Items: Use dict[key] = value or dict.update().\n",
    "# Modifying Items: Use dict[key] = new_value.\n",
    "# Deleting Items: Use del dict[key] or dict.pop(key).\n",
    "# These operations provide flexibility in managing and manipulating dictionaries, making them a powerful tool for handling associative arrays in Python."
   ]
  },
  {
   "cell_type": "raw",
   "id": "d4c55603-03d0-417e-b6b5-510d7faacbd2",
   "metadata": {},
   "source": [
    "Question -  Discuss the importance of dictionary keys being immutable and provide examples.\n",
    "\n",
    "In Python, dictionary keys must be immutable, which is crucial for the integrity and functionality of dictionaries. Here’s a detailed look at why dictionary keys need to be immutable, along with examples.\n",
    "\n",
    "Importance of Immutable Dictionary Keys\n",
    "\n",
    "Hashing Requirement :- Python dictionaries use a hash table to manage key-value pairs. This requires that dictionary keys be hashable, which means they must have a hash value that remains constant during their lifetime. Hash values are used to quickly locate keys in the dictionary. If the key were mutable and its value changed, its hash value would also change, potentially causing inconsistencies and errors in key lookup.\n",
    "\n",
    "Consistency :- Immutable keys ensure consistency in the dictionary. If a key could change after being added to the dictionary, it would disrupt the mapping between keys and values. This could lead to unpredictable behavior or loss of data integrity.\n",
    "\n",
    "Performance :- The immutability of keys allows for efficient lookups, insertions, and deletions. Because the hash value of an immutable key does not change, the dictionary can perform operations in constant time, O(1), on average.\n"
   ]
  },
  {
   "cell_type": "code",
   "execution_count": 20,
   "id": "34e7463e-02d6-454e-aeac-529078eef55a",
   "metadata": {},
   "outputs": [
    {
     "name": "stdout",
     "output_type": "stream",
     "text": [
      "85\n"
     ]
    }
   ],
   "source": [
    "# Examples of Immutable Keys\n",
    "\n",
    "# Strings as Keys :- Strings are immutable, so they are commonly used as dictionary keys.\n",
    "\n",
    "# Using strings as dictionary keys\n",
    "student_grades = {\n",
    "    \"Alice\": 85,\n",
    "    \"Bob\": 92,\n",
    "    \"Charlie\": 78\n",
    "}\n",
    "\n",
    "# Accessing a value by key\n",
    "print(student_grades[\"Alice\"])"
   ]
  },
  {
   "cell_type": "code",
   "execution_count": 21,
   "id": "1bc42c96-9ac2-45c9-ae1a-b602f3c09807",
   "metadata": {},
   "outputs": [
    {
     "name": "stdout",
     "output_type": "stream",
     "text": [
      "Point A\n"
     ]
    }
   ],
   "source": [
    "# Tuples as Keys :- Tuples are immutable as long as they contain only immutable elements, so they can be used as dictionary keys.\n",
    "\n",
    "# Using tuples as dictionary keys\n",
    "coordinate_labels = {\n",
    "    (0, 0): \"Origin\",\n",
    "    (1, 2): \"Point A\",\n",
    "    (3, 4): \"Point B\"\n",
    "}\n",
    "\n",
    "# Accessing a value by key\n",
    "print(coordinate_labels[(1, 2)])"
   ]
  },
  {
   "cell_type": "code",
   "execution_count": 25,
   "id": "0bbcbd85-995b-46ee-b0b9-c84ab27f4b45",
   "metadata": {},
   "outputs": [],
   "source": [
    "# Examples of Mutable Types as Keys\n",
    "\n",
    "# Mutable types, such as lists and dictionaries, cannot be used as dictionary keys because their contents can change, which would alter their hash value.\n",
    "\n",
    "# Lists as Keys (Invalid) :-\n",
    "\n",
    "# Attempting to use a list as a key (will raise TypeError)\n",
    "# my_dict = {\n",
    "#    [1, 2, 3]: \"List Key\"  # TypeError: unhashable type: 'list'\n",
    "# }"
   ]
  },
  {
   "cell_type": "code",
   "execution_count": 27,
   "id": "de2729c1-411f-40e9-b561-31dc39890e93",
   "metadata": {},
   "outputs": [],
   "source": [
    "# Dictionaries as Keys (Invalid) :- \n",
    "\n",
    "# Attempting to use a dictionary as a key (will raise TypeError)\n",
    "# my_dict = {\n",
    "#     {\"key\": \"value\"}: \"Dict Key\"  # TypeError: unhashable type: 'dict'\n",
    "# }"
   ]
  },
  {
   "cell_type": "raw",
   "id": "0427846a-e1cf-4fa8-b517-ab741c9fe018",
   "metadata": {},
   "source": [
    "Summary\n",
    "\n",
    "Immutability: Immutable types like strings, numbers, and tuples (with immutable elements) are suitable for dictionary keys because their hash values do not change over time.\n",
    "\n",
    "Hashing: The requirement for keys to be immutable ensures that their hash values are consistent, enabling efficient and reliable dictionary operations.\n",
    "\n",
    "Performance and Integrity: Immutable keys help maintain the performance and integrity of the dictionary by ensuring that keys cannot change in a way that would disrupt the hash table.\n",
    "\n",
    "Understanding and adhering to the immutability requirement for dictionary keys is essential for effective and error-free use of Python dictionaries.\n"
   ]
  }
 ],
 "metadata": {
  "kernelspec": {
   "display_name": "Python 3 (ipykernel)",
   "language": "python",
   "name": "python3"
  },
  "language_info": {
   "codemirror_mode": {
    "name": "ipython",
    "version": 3
   },
   "file_extension": ".py",
   "mimetype": "text/x-python",
   "name": "python",
   "nbconvert_exporter": "python",
   "pygments_lexer": "ipython3",
   "version": "3.10.8"
  }
 },
 "nbformat": 4,
 "nbformat_minor": 5
}
